{
 "cells": [
  {
   "cell_type": "markdown",
   "metadata": {},
   "source": [
    "Plotting Striatum ROI:\n",
    "two transverse slices for each contrast:\n",
    "1) (Negative active>passive) > (Positive active>passive)\n",
    "2) (Neg active>passive)\n",
    "Z = 38 for Caudate and Z = 34 for Nacc/Putamen"
   ]
  },
  {
   "cell_type": "code",
   "execution_count": 1,
   "metadata": {},
   "outputs": [
    {
     "name": "stderr",
     "output_type": "stream",
     "text": [
      "/home/c11399708/anaconda3/lib/python3.6/importlib/_bootstrap.py:205: ImportWarning: can't resolve package from __spec__ or __package__, falling back on __name__ and __path__\n",
      "  return f(*args, **kwds)\n"
     ]
    }
   ],
   "source": [
    "import numpy as np\n",
    "import matplotlib.pyplot as plt\n",
    "import nilearn\n",
    "from nilearn import plotting\n",
    "from nilearn import image\n",
    "from nilearn import datasets\n",
    "from nilearn.regions import connected_label_regions"
   ]
  },
  {
   "cell_type": "markdown",
   "metadata": {},
   "source": [
    "Plotting Whole brain one plot with three colours\n",
    "\n",
    "X = 20 (saggital slice dACC), X = 46 (saggital slice IFG), Y = 69, Z = 36 for transverse and coronal slices)\n",
    "a.\tNeg active > passive \n",
    "File: FEAT, Cope1, Zstat 1\n",
    "b.\tPos active > passive \n",
    "File: FEAT, Cope2, Zstat 1\n",
    "c.\tConjunction: neg active > passive  && pos active > passive"
   ]
  },
  {
   "cell_type": "code",
   "execution_count": null,
   "metadata": {
    "collapsed": true
   },
   "outputs": [],
   "source": [
    "#Run conjunction analysis\n"
   ]
  }
 ],
 "metadata": {
  "kernelspec": {
   "display_name": "Python 3",
   "language": "python",
   "name": "python3"
  },
  "language_info": {
   "codemirror_mode": {
    "name": "ipython",
    "version": 3
   },
   "file_extension": ".py",
   "mimetype": "text/x-python",
   "name": "python",
   "nbconvert_exporter": "python",
   "pygments_lexer": "ipython3",
   "version": "3.6.1"
  }
 },
 "nbformat": 4,
 "nbformat_minor": 2
}
